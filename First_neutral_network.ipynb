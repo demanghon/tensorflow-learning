{
  "nbformat": 4,
  "nbformat_minor": 0,
  "metadata": {
    "colab": {
      "provenance": [],
      "authorship_tag": "ABX9TyP8FQm82eoxMGOfiAy/fV2F",
      "include_colab_link": true
    },
    "kernelspec": {
      "name": "python3",
      "display_name": "Python 3"
    },
    "language_info": {
      "name": "python"
    }
  },
  "cells": [
    {
      "cell_type": "markdown",
      "metadata": {
        "id": "view-in-github",
        "colab_type": "text"
      },
      "source": [
        "<a href=\"https://colab.research.google.com/github/demanghon/tensorflow-learning/blob/main/First_neutral_network.ipynb\" target=\"_parent\"><img src=\"https://colab.research.google.com/assets/colab-badge.svg\" alt=\"Open In Colab\"/></a>"
      ]
    },
    {
      "cell_type": "markdown",
      "source": [
        "Imports"
      ],
      "metadata": {
        "id": "L6shpb-nShQl"
      }
    },
    {
      "cell_type": "code",
      "execution_count": 1,
      "metadata": {
        "id": "0SbDX0UuRlZJ"
      },
      "outputs": [],
      "source": [
        "import matplotlib.pyplot as plt\n",
        "import tensorflow as tf\n",
        "import numpy as np\n",
        "import pandas as pd\n",
        "import sys\n",
        "\n",
        "assert hasattr(tf, \"function\") #Be sure to use tensorflow"
      ]
    },
    {
      "cell_type": "markdown",
      "source": [
        "Load dataset: Fashion MNIST"
      ],
      "metadata": {
        "id": "Xy6ZikHmSnEJ"
      }
    },
    {
      "cell_type": "code",
      "source": [
        "#Fashion MNIST\n",
        "fashion_mnist = tf.keras.datasets.fashion_mnist\n",
        "(images, targets), (_,_) = fashion_mnist.load_data()\n",
        "\n",
        "#Get only a subpart of dataset\n",
        "images = images[:10000]\n",
        "targets = targets[:10000]"
      ],
      "metadata": {
        "colab": {
          "base_uri": "https://localhost:8080/"
        },
        "id": "5jPMtgUgSzc-",
        "outputId": "08fc72a6-976e-4ace-bed8-9062d1f37008"
      },
      "execution_count": 2,
      "outputs": [
        {
          "output_type": "stream",
          "name": "stdout",
          "text": [
            "Downloading data from https://storage.googleapis.com/tensorflow/tf-keras-datasets/train-labels-idx1-ubyte.gz\n",
            "29515/29515 [==============================] - 0s 0us/step\n",
            "Downloading data from https://storage.googleapis.com/tensorflow/tf-keras-datasets/train-images-idx3-ubyte.gz\n",
            "26421880/26421880 [==============================] - 0s 0us/step\n",
            "Downloading data from https://storage.googleapis.com/tensorflow/tf-keras-datasets/t10k-labels-idx1-ubyte.gz\n",
            "5148/5148 [==============================] - 0s 0us/step\n",
            "Downloading data from https://storage.googleapis.com/tensorflow/tf-keras-datasets/t10k-images-idx3-ubyte.gz\n",
            "4422102/4422102 [==============================] - 0s 0us/step\n",
            "(10000, 28, 28)\n",
            "(10000,)\n"
          ]
        }
      ]
    },
    {
      "cell_type": "markdown",
      "source": [
        "Plot one of the data"
      ],
      "metadata": {
        "id": "cwwNcK6xT8aC"
      }
    },
    {
      "cell_type": "code",
      "source": [
        "targets_names = [\"T-shirt/top\", \"Trouser\", \"Pullover\", \"Dress\", \"Coat\", \"Sandal\", \"Shirt\", \"Sneaker\", \"Bag\", \"Ankle boot\"]\n",
        "\n",
        "plt.imshow(images[0], cmap=\"binary\")\n",
        "plt.title(targets_names[0])\n",
        "plt.show()"
      ],
      "metadata": {
        "colab": {
          "base_uri": "https://localhost:8080/",
          "height": 452
        },
        "id": "L-GjUPI6UE7p",
        "outputId": "561383fa-5e4e-4942-f6ad-8ce3ac816c0d"
      },
      "execution_count": 20,
      "outputs": [
        {
          "output_type": "display_data",
          "data": {
            "text/plain": [
              "<Figure size 640x480 with 1 Axes>"
            ],
            "image/png": "[encoded data removed]"
          },
          "metadata": {}
        }
      ]
    },
    {
      "cell_type": "markdown",
      "source": [
        "Create the model"
      ],
      "metadata": {
        "id": "2MelfwW5VUX8"
      }
    },
    {
      "cell_type": "code",
      "source": [
        "#Create the model\n",
        "model = tf.keras.models.Sequential()\n",
        "#Add operation executed when model.predict is called\n",
        "model.add(tf.keras.layers.Flatten(input_shape=[28, 28]))\n",
        "\n",
        "print(\"Shape of image\", images[0:1].shape)\n",
        "model_output = model.predict(images[0:1])\n",
        "print(\"Shape of the image after the Flatten\", model_output.shape)"
      ],
      "metadata": {
        "colab": {
          "base_uri": "https://localhost:8080/"
        },
        "id": "vZgN2Nr8VZMe",
        "outputId": "ce361700-a693-4afa-bf82-c55d4a728754"
      },
      "execution_count": 24,
      "outputs": [
        {
          "output_type": "stream",
          "name": "stderr",
          "text": [
            "WARNING:tensorflow:6 out of the last 6 calls to <function Model.make_predict_function.<locals>.predict_function at 0x7ae534418ee0> triggered tf.function retracing. Tracing is expensive and the excessive number of tracings could be due to (1) creating @tf.function repeatedly in a loop, (2) passing tensors with different shapes, (3) passing Python objects instead of tensors. For (1), please define your @tf.function outside of the loop. For (2), @tf.function has reduce_retracing=True option that can avoid unnecessary retracing. For (3), please refer to https://www.tensorflow.org/guide/function#controlling_retracing and https://www.tensorflow.org/api_docs/python/tf/function for  more details.\n"
          ]
        },
        {
          "output_type": "stream",
          "name": "stdout",
          "text": [
            "Shape of image (1, 28, 28)\n",
            "1/1 [==============================] - 0s 57ms/step\n",
            "Shape of the image after the Flatten (1, 784)\n"
          ]
        }
      ]
    },
    {
      "cell_type": "markdown",
      "source": [
        "Add the layers"
      ],
      "metadata": {
        "id": "ulsRL1E9Yuen"
      }
    },
    {
      "cell_type": "code",
      "source": [
        "#Create the model\n",
        "model = tf.keras.models.Sequential()\n",
        "model.add(tf.keras.layers.Flatten(input_shape=[28, 28]))\n",
        "\n",
        "#Add the layers\n",
        "model.add(tf.keras.layers.Dense(256, activation=\"relu\"))\n",
        "model.add(tf.keras.layers.Dense(128, activation=\"relu\"))\n",
        "model.add(tf.keras.layers.Dense(10, activation=\"softmax\"))\n",
        "\n",
        "model_ouput = model.predict(images[0:1])\n",
        "print(model_output, targets[0:1])"
      ],
      "metadata": {
        "colab": {
          "base_uri": "https://localhost:8080/"
        },
        "id": "CKNKDghAYysv",
        "outputId": "df284ae8-3903-49f8-c3f8-55adbe1db78e"
      },
      "execution_count": 39,
      "outputs": [
        {
          "output_type": "stream",
          "name": "stdout",
          "text": [
            "1/1 [==============================] - 0s 82ms/step\n",
            "[[  0.   0.   0.   0.   0.   0.   0.   0.   0.   0.   0.   0.   0.   0.\n",
            "    0.   0.   0.   0.   0.   0.   0.   0.   0.   0.   0.   0.   0.   0.\n",
            "    0.   0.   0.   0.   0.   0.   0.   0.   0.   0.   0.   0.   0.   0.\n",
            "    0.   0.   0.   0.   0.   0.   0.   0.   0.   0.   0.   0.   0.   0.\n",
            "    0.   0.   0.   0.   0.   0.   0.   0.   0.   0.   0.   0.   0.   0.\n",
            "    0.   0.   0.   0.   0.   0.   0.   0.   0.   0.   0.   0.   0.   0.\n",
            "    0.   0.   0.   0.   0.   0.   0.   0.   0.   0.   0.   0.   1.   0.\n",
            "    0.  13.  73.   0.   0.   1.   4.   0.   0.   0.   0.   1.   1.   0.\n",
            "    0.   0.   0.   0.   0.   0.   0.   0.   0.   0.   0.   0.   3.   0.\n",
            "   36. 136. 127.  62.  54.   0.   0.   0.   1.   3.   4.   0.   0.   3.\n",
            "    0.   0.   0.   0.   0.   0.   0.   0.   0.   0.   0.   0.   6.   0.\n",
            "  102. 204. 176. 134. 144. 123.  23.   0.   0.   0.   0.  12.  10.   0.\n",
            "    0.   0.   0.   0.   0.   0.   0.   0.   0.   0.   0.   0.   0.   0.\n",
            "  155. 236. 207. 178. 107. 156. 161. 109.  64.  23.  77. 130.  72.  15.\n",
            "    0.   0.   0.   0.   0.   0.   0.   0.   0.   0.   0.   1.   0.  69.\n",
            "  207. 223. 218. 216. 216. 163. 127. 121. 122. 146. 141.  88. 172.  66.\n",
            "    0.   0.   0.   0.   0.   0.   0.   0.   0.   1.   1.   1.   0. 200.\n",
            "  232. 232. 233. 229. 223. 223. 215. 213. 164. 127. 123. 196. 229.   0.\n",
            "    0.   0.   0.   0.   0.   0.   0.   0.   0.   0.   0.   0.   0. 183.\n",
            "  225. 216. 223. 228. 235. 227. 224. 222. 224. 221. 223. 245. 173.   0.\n",
            "    0.   0.   0.   0.   0.   0.   0.   0.   0.   0.   0.   0.   0. 193.\n",
            "  228. 218. 213. 198. 180. 212. 210. 211. 213. 223. 220. 243. 202.   0.\n",
            "    0.   0.   0.   0.   0.   0.   0.   0.   0.   1.   3.   0.  12. 219.\n",
            "  220. 212. 218. 192. 169. 227. 208. 218. 224. 212. 226. 197. 209.  52.\n",
            "    0.   0.   0.   0.   0.   0.   0.   0.   0.   0.   6.   0.  99. 244.\n",
            "  222. 220. 218. 203. 198. 221. 215. 213. 222. 220. 245. 119. 167.  56.\n",
            "    0.   0.   0.   0.   0.   0.   0.   0.   0.   4.   0.   0.  55. 236.\n",
            "  228. 230. 228. 240. 232. 213. 218. 223. 234. 217. 217. 209.  92.   0.\n",
            "    0.   0.   1.   4.   6.   7.   2.   0.   0.   0.   0.   0. 237. 226.\n",
            "  217. 223. 222. 219. 222. 221. 216. 223. 229. 215. 218. 255.  77.   0.\n",
            "    0.   3.   0.   0.   0.   0.   0.   0.   0.  62. 145. 204. 228. 207.\n",
            "  213. 221. 218. 208. 211. 218. 224. 223. 219. 215. 224. 244. 159.   0.\n",
            "    0.   0.   0.   0.  18.  44.  82. 107. 189. 228. 220. 222. 217. 226.\n",
            "  200. 205. 211. 230. 224. 234. 176. 188. 250. 248. 233. 238. 215.   0.\n",
            "    0.  57. 187. 208. 224. 221. 224. 208. 204. 214. 208. 209. 200. 159.\n",
            "  245. 193. 206. 223. 255. 255. 221. 234. 221. 211. 220. 232. 246.   0.\n",
            "    3. 202. 228. 224. 221. 211. 211. 214. 205. 205. 205. 220. 240.  80.\n",
            "  150. 255. 229. 221. 188. 154. 191. 210. 204. 209. 222. 228. 225.   0.\n",
            "   98. 233. 198. 210. 222. 229. 229. 234. 249. 220. 194. 215. 217. 241.\n",
            "   65.  73. 106. 117. 168. 219. 221. 215. 217. 223. 223. 224. 229.  29.\n",
            "   75. 204. 212. 204. 193. 205. 211. 225. 216. 185. 197. 206. 198. 213.\n",
            "  240. 195. 227. 245. 239. 223. 218. 212. 209. 222. 220. 221. 230.  67.\n",
            "   48. 203. 183. 194. 213. 197. 185. 190. 194. 192. 202. 214. 219. 221.\n",
            "  220. 236. 225. 216. 199. 206. 186. 181. 177. 172. 181. 205. 206. 115.\n",
            "    0. 122. 219. 193. 179. 171. 183. 196. 204. 210. 213. 207. 211. 210.\n",
            "  200. 196. 194. 191. 195. 191. 198. 192. 176. 156. 167. 177. 210.  92.\n",
            "    0.   0.  74. 189. 212. 191. 175. 172. 175. 181. 185. 188. 189. 188.\n",
            "  193. 198. 204. 209. 210. 210. 211. 188. 188. 194. 192. 216. 170.   0.\n",
            "    2.   0.   0.   0.  66. 200. 222. 237. 239. 242. 246. 243. 244. 221.\n",
            "  220. 193. 191. 179. 182. 182. 181. 176. 166. 168.  99.  58.   0.   0.\n",
            "    0.   0.   0.   0.   0.   0.   0.  40.  61.  44.  72.  41.  35.   0.\n",
            "    0.   0.   0.   0.   0.   0.   0.   0.   0.   0.   0.   0.   0.   0.\n",
            "    0.   0.   0.   0.   0.   0.   0.   0.   0.   0.   0.   0.   0.   0.\n",
            "    0.   0.   0.   0.   0.   0.   0.   0.   0.   0.   0.   0.   0.   0.\n",
            "    0.   0.   0.   0.   0.   0.   0.   0.   0.   0.   0.   0.   0.   0.\n",
            "    0.   0.   0.   0.   0.   0.   0.   0.   0.   0.   0.   0.   0.   0.]] [9]\n"
          ]
        }
      ]
    },
    {
      "cell_type": "markdown",
      "source": [
        "Model summary"
      ],
      "metadata": {
        "id": "nVJJBMpAasRf"
      }
    },
    {
      "cell_type": "code",
      "source": [
        "model.summary()"
      ],
      "metadata": {
        "colab": {
          "base_uri": "https://localhost:8080/"
        },
        "id": "Mmf1Gjl8au1u",
        "outputId": "c9cb9307-ac4d-4f9e-f032-569d7b225003"
      },
      "execution_count": 31,
      "outputs": [
        {
          "output_type": "stream",
          "name": "stdout",
          "text": [
            "Model: \"sequential_12\"\n",
            "_________________________________________________________________\n",
            " Layer (type)                Output Shape              Param #   \n",
            "=================================================================\n",
            " flatten_9 (Flatten)         (None, 784)               0         \n",
            "                                                                 \n",
            " dense_6 (Dense)             (None, 256)               200960    \n",
            "                                                                 \n",
            " dense_7 (Dense)             (None, 128)               32896     \n",
            "                                                                 \n",
            " dense_8 (Dense)             (None, 10)                1290      \n",
            "                                                                 \n",
            "=================================================================\n",
            "Total params: 235,146\n",
            "Trainable params: 235,146\n",
            "Non-trainable params: 0\n",
            "_________________________________________________________________\n"
          ]
        }
      ]
    },
    {
      "cell_type": "markdown",
      "source": [
        "Compile the model"
      ],
      "metadata": {
        "id": "wV9CaS8Ccx6W"
      }
    },
    {
      "cell_type": "code",
      "source": [
        "model.compile(\n",
        "    loss=\"sparse_categorical_crossentropy\",\n",
        "    optimizer=\"sgd\",\n",
        "    metrics=[\"accuracy\"]\n",
        ")"
      ],
      "metadata": {
        "id": "OHUVCJlAbB3m"
      },
      "execution_count": 42,
      "outputs": []
    },
    {
      "cell_type": "markdown",
      "source": [
        "Train the model"
      ],
      "metadata": {
        "id": "yRhF-VP-bYTg"
      }
    },
    {
      "cell_type": "code",
      "source": [
        "history = model.fit(images, targets, epochs=10)modemode"
      ],
      "metadata": {
        "colab": {
          "base_uri": "https://localhost:8080/"
        },
        "id": "88vn01Yebas-",
        "outputId": "8d4b6aba-5517-40aa-a1a8-92cd8d605f4a"
      },
      "execution_count": 43,
      "outputs": [
        {
          "output_type": "stream",
          "name": "stdout",
          "text": [
            "Epoch 1/10\n",
            "313/313 [==============================] - 2s 4ms/step - loss: 2.3024 - accuracy: 0.0973\n",
            "Epoch 2/10\n",
            "313/313 [==============================] - 2s 5ms/step - loss: 2.3024 - accuracy: 0.0983\n",
            "Epoch 3/10\n",
            "313/313 [==============================] - 2s 6ms/step - loss: 2.3024 - accuracy: 0.1017\n",
            "Epoch 4/10\n",
            "313/313 [==============================] - 2s 5ms/step - loss: 2.3024 - accuracy: 0.0997\n",
            "Epoch 5/10\n",
            "313/313 [==============================] - 1s 4ms/step - loss: 2.3024 - accuracy: 0.0980\n",
            "Epoch 6/10\n",
            "313/313 [==============================] - 1s 4ms/step - loss: 2.3024 - accuracy: 0.1008\n",
            "Epoch 7/10\n",
            "313/313 [==============================] - 1s 4ms/step - loss: 2.3024 - accuracy: 0.0998\n",
            "Epoch 8/10\n",
            "313/313 [==============================] - 1s 5ms/step - loss: 2.3024 - accuracy: 0.1013\n",
            "Epoch 9/10\n",
            "313/313 [==============================] - 1s 4ms/step - loss: 2.3024 - accuracy: 0.1002\n",
            "Epoch 10/10\n",
            "313/313 [==============================] - 1s 4ms/step - loss: 2.3024 - accuracy: 0.1004\n"
          ]
        }
      ]
    },
    {
      "cell_type": "code",
      "source": [
        "loss_curve = history.history[\"loss\"]\n",
        "acc_curve = history.history[\"accuracy\"]\n",
        "\n",
        "plt.plot(loss_curve)\n",
        "plt.title(\"Loss\")\n",
        "plt.show()\n",
        "\n",
        "plt.plot(acc_curve)\n",
        "plt.title(\"Accuracy\")\n",
        "plt.show()"
      ],
      "metadata": {
        "colab": {
          "base_uri": "https://localhost:8080/",
          "height": 887
        },
        "id": "6MzEMDfVbv-Z",
        "outputId": "31b7da8a-e113-4c08-d02a-7b1ef3c44107"
      },
      "execution_count": 38,
      "outputs": [
        {
          "output_type": "display_data",
          "data": {
            "text/plain": [
              "<Figure size 640x480 with 1 Axes>"
            ],
            "image/png": "[encoded data removed]"
          },
          "metadata": {}
        },
        {
          "output_type": "display_data",
          "data": {
            "text/plain": [
              "<Figure size 640x480 with 1 Axes>"
            ],
            "image/png": "[encoded data removed]"
          },
          "metadata": {}
        }
      ]
    }
  ]
}